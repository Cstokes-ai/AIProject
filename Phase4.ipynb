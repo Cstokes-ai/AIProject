{
 "cells": [
  {
   "cell_type": "code",
   "execution_count": 1,
   "id": "ab06eb53",
   "metadata": {},
   "outputs": [],
   "source": [
    "import matplotlib.pyplot as plt\n",
    "import pandas as pd\n",
    "import seaborn as sns\n",
    "from sklearn.preprocessing import StandardScaler\n",
    "import tensorflow as tf\n",
    "import keras"
   ]
  },
  {
   "cell_type": "code",
   "execution_count": 2,
   "id": "25fd272f",
   "metadata": {},
   "outputs": [
    {
     "name": "stdout",
     "output_type": "stream",
     "text": [
      "       person_age person_gender person_education  person_income  \\\n",
      "0            32.0          male        Associate        96865.0   \n",
      "1            24.0          male        Associate        56838.0   \n",
      "2            22.0        female           Master        37298.0   \n",
      "3            23.0        female         Bachelor        39944.0   \n",
      "4            42.0          male      High School        67974.0   \n",
      "...           ...           ...              ...            ...   \n",
      "44995        26.0          male      High School        88451.0   \n",
      "44996        25.0        female      High School        34772.0   \n",
      "44997        33.0        female        Associate        58317.0   \n",
      "44998        26.0          male           Master       178602.0   \n",
      "44999        26.0        female      High School       210894.0   \n",
      "\n",
      "       person_emp_exp person_home_ownership  loan_amnt        loan_intent  \\\n",
      "0                  10              MORTGAGE     7500.0          EDUCATION   \n",
      "1                   6                  RENT     9000.0          EDUCATION   \n",
      "2                   0                  RENT     5000.0            MEDICAL   \n",
      "3                   1                   OWN     5000.0            VENTURE   \n",
      "4                  20              MORTGAGE    10000.0    HOMEIMPROVEMENT   \n",
      "...               ...                   ...        ...                ...   \n",
      "44995               6              MORTGAGE    10625.0          EDUCATION   \n",
      "44996               3              MORTGAGE     5876.0    HOMEIMPROVEMENT   \n",
      "44997               9              MORTGAGE    10707.0            VENTURE   \n",
      "44998               6                  RENT    20000.0  DEBTCONSOLIDATION   \n",
      "44999               4              MORTGAGE    15000.0           PERSONAL   \n",
      "\n",
      "       loan_int_rate  loan_percent_income  cb_person_cred_hist_length  \\\n",
      "0               6.04                 0.08                        10.0   \n",
      "1              11.49                 0.16                         4.0   \n",
      "2              14.88                 0.13                         4.0   \n",
      "3              13.99                 0.13                         3.0   \n",
      "4              15.41                 0.15                        11.0   \n",
      "...              ...                  ...                         ...   \n",
      "44995           6.03                 0.12                         4.0   \n",
      "44996          11.69                 0.17                         4.0   \n",
      "44997          10.74                 0.18                         9.0   \n",
      "44998          17.99                 0.11                         3.0   \n",
      "44999          11.01                 0.07                         3.0   \n",
      "\n",
      "       credit_score previous_loan_defaults_on_file  loan_status  \n",
      "0               601                             No            0  \n",
      "1               647                            Yes            0  \n",
      "2               711                             No            1  \n",
      "3               597                            Yes            0  \n",
      "4               586                             No            1  \n",
      "...             ...                            ...          ...  \n",
      "44995           559                            Yes            0  \n",
      "44996           647                             No            1  \n",
      "44997           652                            Yes            0  \n",
      "44998           604                             No            1  \n",
      "44999           664                            Yes            0  \n",
      "\n",
      "[45000 rows x 14 columns]\n"
     ]
    }
   ],
   "source": [
    "#loaded the dataset\n",
    "data_set = pd.read_csv('loan_data.csv')\n",
    "shuffled_data_set = data_set.sample(frac=1, random_state=42).reset_index(drop=True)\n",
    "print(shuffled_data_set)\n"
   ]
  },
  {
   "cell_type": "code",
   "execution_count": 3,
   "id": "4f7e0e4a",
   "metadata": {},
   "outputs": [
    {
     "name": "stdout",
     "output_type": "stream",
     "text": [
      "Training model with feature subset 1: ['person_income', 'loan_amnt', 'loan_int_rate', 'credit_score', 'cb_person_cred_hist_length', 'loan_percent_income']\n"
     ]
    },
    {
     "name": "stderr",
     "output_type": "stream",
     "text": [
      "c:\\Users\\corne\\Downloads\\AIProject\\.venv\\Lib\\site-packages\\keras\\src\\layers\\core\\dense.py:87: UserWarning: Do not pass an `input_shape`/`input_dim` argument to a layer. When using Sequential models, prefer using an `Input(shape)` object as the first layer in the model instead.\n",
      "  super().__init__(activity_regularizer=activity_regularizer, **kwargs)\n"
     ]
    },
    {
     "name": "stdout",
     "output_type": "stream",
     "text": [
      "Epoch 1/10\n",
      "\u001b[1m900/900\u001b[0m \u001b[32m━━━━━━━━━━━━━━━━━━━━\u001b[0m\u001b[37m\u001b[0m \u001b[1m0s\u001b[0m 2ms/step - accuracy: 0.4384 - loss: 0.9230"
     ]
    },
    {
     "name": "stderr",
     "output_type": "stream",
     "text": [
      "WARNING:absl:You are saving your model as an HDF5 file via `model.save()` or `keras.saving.save_model(model)`. This file format is considered legacy. We recommend using instead the native Keras format, e.g. `model.save('my_model.keras')` or `keras.saving.save_model(model, 'my_model.keras')`. \n"
     ]
    },
    {
     "name": "stdout",
     "output_type": "stream",
     "text": [
      "\u001b[1m900/900\u001b[0m \u001b[32m━━━━━━━━━━━━━━━━━━━━\u001b[0m\u001b[37m\u001b[0m \u001b[1m4s\u001b[0m 3ms/step - accuracy: 0.4385 - loss: 0.9229 - val_accuracy: 0.7518 - val_loss: 0.5823\n",
      "Epoch 2/10\n",
      "\u001b[1m894/900\u001b[0m \u001b[32m━━━━━━━━━━━━━━━━━━━\u001b[0m\u001b[37m━\u001b[0m \u001b[1m0s\u001b[0m 2ms/step - accuracy: 0.7735 - loss: 0.5357"
     ]
    },
    {
     "name": "stderr",
     "output_type": "stream",
     "text": [
      "WARNING:absl:You are saving your model as an HDF5 file via `model.save()` or `keras.saving.save_model(model)`. This file format is considered legacy. We recommend using instead the native Keras format, e.g. `model.save('my_model.keras')` or `keras.saving.save_model(model, 'my_model.keras')`. \n"
     ]
    },
    {
     "name": "stdout",
     "output_type": "stream",
     "text": [
      "\u001b[1m900/900\u001b[0m \u001b[32m━━━━━━━━━━━━━━━━━━━━\u001b[0m\u001b[37m\u001b[0m \u001b[1m3s\u001b[0m 3ms/step - accuracy: 0.7736 - loss: 0.5355 - val_accuracy: 0.8028 - val_loss: 0.4517\n",
      "Epoch 3/10\n",
      "\u001b[1m891/900\u001b[0m \u001b[32m━━━━━━━━━━━━━━━━━━━\u001b[0m\u001b[37m━\u001b[0m \u001b[1m0s\u001b[0m 3ms/step - accuracy: 0.8126 - loss: 0.4393"
     ]
    },
    {
     "name": "stderr",
     "output_type": "stream",
     "text": [
      "WARNING:absl:You are saving your model as an HDF5 file via `model.save()` or `keras.saving.save_model(model)`. This file format is considered legacy. We recommend using instead the native Keras format, e.g. `model.save('my_model.keras')` or `keras.saving.save_model(model, 'my_model.keras')`. \n"
     ]
    },
    {
     "name": "stdout",
     "output_type": "stream",
     "text": [
      "\u001b[1m900/900\u001b[0m \u001b[32m━━━━━━━━━━━━━━━━━━━━\u001b[0m\u001b[37m\u001b[0m \u001b[1m6s\u001b[0m 3ms/step - accuracy: 0.8126 - loss: 0.4392 - val_accuracy: 0.8233 - val_loss: 0.4131\n",
      "Epoch 4/10\n",
      "\u001b[1m879/900\u001b[0m \u001b[32m━━━━━━━━━━━━━━━━━━━\u001b[0m\u001b[37m━\u001b[0m \u001b[1m0s\u001b[0m 2ms/step - accuracy: 0.8206 - loss: 0.4163"
     ]
    },
    {
     "name": "stderr",
     "output_type": "stream",
     "text": [
      "WARNING:absl:You are saving your model as an HDF5 file via `model.save()` or `keras.saving.save_model(model)`. This file format is considered legacy. We recommend using instead the native Keras format, e.g. `model.save('my_model.keras')` or `keras.saving.save_model(model, 'my_model.keras')`. \n"
     ]
    },
    {
     "name": "stdout",
     "output_type": "stream",
     "text": [
      "\u001b[1m900/900\u001b[0m \u001b[32m━━━━━━━━━━━━━━━━━━━━\u001b[0m\u001b[37m\u001b[0m \u001b[1m2s\u001b[0m 3ms/step - accuracy: 0.8207 - loss: 0.4162 - val_accuracy: 0.8269 - val_loss: 0.4002\n",
      "Epoch 5/10\n",
      "\u001b[1m893/900\u001b[0m \u001b[32m━━━━━━━━━━━━━━━━━━━\u001b[0m\u001b[37m━\u001b[0m \u001b[1m0s\u001b[0m 2ms/step - accuracy: 0.8313 - loss: 0.4014"
     ]
    },
    {
     "name": "stderr",
     "output_type": "stream",
     "text": [
      "WARNING:absl:You are saving your model as an HDF5 file via `model.save()` or `keras.saving.save_model(model)`. This file format is considered legacy. We recommend using instead the native Keras format, e.g. `model.save('my_model.keras')` or `keras.saving.save_model(model, 'my_model.keras')`. \n"
     ]
    },
    {
     "name": "stdout",
     "output_type": "stream",
     "text": [
      "\u001b[1m900/900\u001b[0m \u001b[32m━━━━━━━━━━━━━━━━━━━━\u001b[0m\u001b[37m\u001b[0m \u001b[1m2s\u001b[0m 3ms/step - accuracy: 0.8313 - loss: 0.4014 - val_accuracy: 0.8288 - val_loss: 0.3954\n",
      "Epoch 6/10\n",
      "\u001b[1m874/900\u001b[0m \u001b[32m━━━━━━━━━━━━━━━━━━━\u001b[0m\u001b[37m━\u001b[0m \u001b[1m0s\u001b[0m 2ms/step - accuracy: 0.8269 - loss: 0.4005"
     ]
    },
    {
     "name": "stderr",
     "output_type": "stream",
     "text": [
      "WARNING:absl:You are saving your model as an HDF5 file via `model.save()` or `keras.saving.save_model(model)`. This file format is considered legacy. We recommend using instead the native Keras format, e.g. `model.save('my_model.keras')` or `keras.saving.save_model(model, 'my_model.keras')`. \n"
     ]
    },
    {
     "name": "stdout",
     "output_type": "stream",
     "text": [
      "\u001b[1m900/900\u001b[0m \u001b[32m━━━━━━━━━━━━━━━━━━━━\u001b[0m\u001b[37m\u001b[0m \u001b[1m3s\u001b[0m 3ms/step - accuracy: 0.8269 - loss: 0.4005 - val_accuracy: 0.8292 - val_loss: 0.3930\n",
      "Epoch 7/10\n",
      "\u001b[1m900/900\u001b[0m \u001b[32m━━━━━━━━━━━━━━━━━━━━\u001b[0m\u001b[37m\u001b[0m \u001b[1m2s\u001b[0m 3ms/step - accuracy: 0.8285 - loss: 0.3974 - val_accuracy: 0.8290 - val_loss: 0.3917\n",
      "Epoch 8/10\n",
      "\u001b[1m886/900\u001b[0m \u001b[32m━━━━━━━━━━━━━━━━━━━\u001b[0m\u001b[37m━\u001b[0m \u001b[1m0s\u001b[0m 2ms/step - accuracy: 0.8273 - loss: 0.3977"
     ]
    },
    {
     "name": "stderr",
     "output_type": "stream",
     "text": [
      "WARNING:absl:You are saving your model as an HDF5 file via `model.save()` or `keras.saving.save_model(model)`. This file format is considered legacy. We recommend using instead the native Keras format, e.g. `model.save('my_model.keras')` or `keras.saving.save_model(model, 'my_model.keras')`. \n"
     ]
    },
    {
     "name": "stdout",
     "output_type": "stream",
     "text": [
      "\u001b[1m900/900\u001b[0m \u001b[32m━━━━━━━━━━━━━━━━━━━━\u001b[0m\u001b[37m\u001b[0m \u001b[1m2s\u001b[0m 3ms/step - accuracy: 0.8273 - loss: 0.3977 - val_accuracy: 0.8301 - val_loss: 0.3907\n",
      "Epoch 9/10\n",
      "\u001b[1m900/900\u001b[0m \u001b[32m━━━━━━━━━━━━━━━━━━━━\u001b[0m\u001b[37m\u001b[0m \u001b[1m2s\u001b[0m 3ms/step - accuracy: 0.8266 - loss: 0.3980 - val_accuracy: 0.8300 - val_loss: 0.3899\n",
      "Epoch 10/10\n",
      "\u001b[1m900/900\u001b[0m \u001b[32m━━━━━━━━━━━━━━━━━━━━\u001b[0m\u001b[37m\u001b[0m \u001b[1m2s\u001b[0m 2ms/step - accuracy: 0.8246 - loss: 0.4044 - val_accuracy: 0.8294 - val_loss: 0.3892\n",
      "\u001b[1m282/282\u001b[0m \u001b[32m━━━━━━━━━━━━━━━━━━━━\u001b[0m\u001b[37m\u001b[0m \u001b[1m1s\u001b[0m 2ms/step - accuracy: 0.8270 - loss: 0.3876\n",
      "\u001b[1m282/282\u001b[0m \u001b[32m━━━━━━━━━━━━━━━━━━━━\u001b[0m\u001b[37m\u001b[0m \u001b[1m0s\u001b[0m 2ms/step\n",
      "Training model with feature subset 2: ['person_age', 'person_income', 'person_emp_exp', 'loan_amnt', 'loan_int_rate', 'loan_percent_income', 'cb_person_cred_hist_length', 'credit_score', 'person_gender_male', 'person_education_Bachelor', 'person_education_Doctorate', 'person_education_High School', 'person_education_Master', 'person_home_ownership_OTHER', 'person_home_ownership_OWN', 'person_home_ownership_RENT', 'loan_intent_EDUCATION', 'loan_intent_HOMEIMPROVEMENT', 'loan_intent_MEDICAL', 'loan_intent_PERSONAL', 'loan_intent_VENTURE', 'previous_loan_defaults_on_file_Yes']\n",
      "Epoch 1/10\n"
     ]
    },
    {
     "name": "stderr",
     "output_type": "stream",
     "text": [
      "c:\\Users\\corne\\Downloads\\AIProject\\.venv\\Lib\\site-packages\\keras\\src\\layers\\core\\dense.py:87: UserWarning: Do not pass an `input_shape`/`input_dim` argument to a layer. When using Sequential models, prefer using an `Input(shape)` object as the first layer in the model instead.\n",
      "  super().__init__(activity_regularizer=activity_regularizer, **kwargs)\n"
     ]
    },
    {
     "name": "stdout",
     "output_type": "stream",
     "text": [
      "\u001b[1m886/900\u001b[0m \u001b[32m━━━━━━━━━━━━━━━━━━━\u001b[0m\u001b[37m━\u001b[0m \u001b[1m0s\u001b[0m 2ms/step - accuracy: 0.5493 - loss: 0.7635"
     ]
    },
    {
     "name": "stderr",
     "output_type": "stream",
     "text": [
      "WARNING:absl:You are saving your model as an HDF5 file via `model.save()` or `keras.saving.save_model(model)`. This file format is considered legacy. We recommend using instead the native Keras format, e.g. `model.save('my_model.keras')` or `keras.saving.save_model(model, 'my_model.keras')`. \n"
     ]
    },
    {
     "name": "stdout",
     "output_type": "stream",
     "text": [
      "\u001b[1m900/900\u001b[0m \u001b[32m━━━━━━━━━━━━━━━━━━━━\u001b[0m\u001b[37m\u001b[0m \u001b[1m2s\u001b[0m 2ms/step - accuracy: 0.5514 - loss: 0.7610 - val_accuracy: 0.8486 - val_loss: 0.4223\n",
      "Epoch 2/10\n",
      "\u001b[1m888/900\u001b[0m \u001b[32m━━━━━━━━━━━━━━━━━━━\u001b[0m\u001b[37m━\u001b[0m \u001b[1m0s\u001b[0m 2ms/step - accuracy: 0.8698 - loss: 0.3864"
     ]
    },
    {
     "name": "stderr",
     "output_type": "stream",
     "text": [
      "WARNING:absl:You are saving your model as an HDF5 file via `model.save()` or `keras.saving.save_model(model)`. This file format is considered legacy. We recommend using instead the native Keras format, e.g. `model.save('my_model.keras')` or `keras.saving.save_model(model, 'my_model.keras')`. \n"
     ]
    },
    {
     "name": "stdout",
     "output_type": "stream",
     "text": [
      "\u001b[1m900/900\u001b[0m \u001b[32m━━━━━━━━━━━━━━━━━━━━\u001b[0m\u001b[37m\u001b[0m \u001b[1m2s\u001b[0m 2ms/step - accuracy: 0.8700 - loss: 0.3860 - val_accuracy: 0.8921 - val_loss: 0.3130\n",
      "Epoch 3/10\n",
      "\u001b[1m884/900\u001b[0m \u001b[32m━━━━━━━━━━━━━━━━━━━\u001b[0m\u001b[37m━\u001b[0m \u001b[1m0s\u001b[0m 1ms/step - accuracy: 0.8902 - loss: 0.3025"
     ]
    },
    {
     "name": "stderr",
     "output_type": "stream",
     "text": [
      "WARNING:absl:You are saving your model as an HDF5 file via `model.save()` or `keras.saving.save_model(model)`. This file format is considered legacy. We recommend using instead the native Keras format, e.g. `model.save('my_model.keras')` or `keras.saving.save_model(model, 'my_model.keras')`. \n"
     ]
    },
    {
     "name": "stdout",
     "output_type": "stream",
     "text": [
      "\u001b[1m900/900\u001b[0m \u001b[32m━━━━━━━━━━━━━━━━━━━━\u001b[0m\u001b[37m\u001b[0m \u001b[1m2s\u001b[0m 2ms/step - accuracy: 0.8902 - loss: 0.3023 - val_accuracy: 0.8944 - val_loss: 0.2717\n",
      "Epoch 4/10\n",
      "\u001b[1m869/900\u001b[0m \u001b[32m━━━━━━━━━━━━━━━━━━━\u001b[0m\u001b[37m━\u001b[0m \u001b[1m0s\u001b[0m 2ms/step - accuracy: 0.8963 - loss: 0.2672"
     ]
    },
    {
     "name": "stderr",
     "output_type": "stream",
     "text": [
      "WARNING:absl:You are saving your model as an HDF5 file via `model.save()` or `keras.saving.save_model(model)`. This file format is considered legacy. We recommend using instead the native Keras format, e.g. `model.save('my_model.keras')` or `keras.saving.save_model(model, 'my_model.keras')`. \n"
     ]
    },
    {
     "name": "stdout",
     "output_type": "stream",
     "text": [
      "\u001b[1m900/900\u001b[0m \u001b[32m━━━━━━━━━━━━━━━━━━━━\u001b[0m\u001b[37m\u001b[0m \u001b[1m2s\u001b[0m 2ms/step - accuracy: 0.8963 - loss: 0.2671 - val_accuracy: 0.8963 - val_loss: 0.2519\n",
      "Epoch 5/10\n",
      "\u001b[1m891/900\u001b[0m \u001b[32m━━━━━━━━━━━━━━━━━━━\u001b[0m\u001b[37m━\u001b[0m \u001b[1m0s\u001b[0m 2ms/step - accuracy: 0.8951 - loss: 0.2499"
     ]
    },
    {
     "name": "stderr",
     "output_type": "stream",
     "text": [
      "WARNING:absl:You are saving your model as an HDF5 file via `model.save()` or `keras.saving.save_model(model)`. This file format is considered legacy. We recommend using instead the native Keras format, e.g. `model.save('my_model.keras')` or `keras.saving.save_model(model, 'my_model.keras')`. \n"
     ]
    },
    {
     "name": "stdout",
     "output_type": "stream",
     "text": [
      "\u001b[1m900/900\u001b[0m \u001b[32m━━━━━━━━━━━━━━━━━━━━\u001b[0m\u001b[37m\u001b[0m \u001b[1m2s\u001b[0m 3ms/step - accuracy: 0.8951 - loss: 0.2499 - val_accuracy: 0.8972 - val_loss: 0.2411\n",
      "Epoch 6/10\n",
      "\u001b[1m895/900\u001b[0m \u001b[32m━━━━━━━━━━━━━━━━━━━\u001b[0m\u001b[37m━\u001b[0m \u001b[1m0s\u001b[0m 2ms/step - accuracy: 0.8934 - loss: 0.2460"
     ]
    },
    {
     "name": "stderr",
     "output_type": "stream",
     "text": [
      "WARNING:absl:You are saving your model as an HDF5 file via `model.save()` or `keras.saving.save_model(model)`. This file format is considered legacy. We recommend using instead the native Keras format, e.g. `model.save('my_model.keras')` or `keras.saving.save_model(model, 'my_model.keras')`. \n"
     ]
    },
    {
     "name": "stdout",
     "output_type": "stream",
     "text": [
      "\u001b[1m900/900\u001b[0m \u001b[32m━━━━━━━━━━━━━━━━━━━━\u001b[0m\u001b[37m\u001b[0m \u001b[1m2s\u001b[0m 3ms/step - accuracy: 0.8934 - loss: 0.2460 - val_accuracy: 0.8975 - val_loss: 0.2350\n",
      "Epoch 7/10\n",
      "\u001b[1m900/900\u001b[0m \u001b[32m━━━━━━━━━━━━━━━━━━━━\u001b[0m\u001b[37m\u001b[0m \u001b[1m2s\u001b[0m 3ms/step - accuracy: 0.8953 - loss: 0.2384 - val_accuracy: 0.8971 - val_loss: 0.2312\n",
      "Epoch 8/10\n",
      "\u001b[1m899/900\u001b[0m \u001b[32m━━━━━━━━━━━━━━━━━━━\u001b[0m\u001b[37m━\u001b[0m \u001b[1m0s\u001b[0m 2ms/step - accuracy: 0.8974 - loss: 0.2313"
     ]
    },
    {
     "name": "stderr",
     "output_type": "stream",
     "text": [
      "WARNING:absl:You are saving your model as an HDF5 file via `model.save()` or `keras.saving.save_model(model)`. This file format is considered legacy. We recommend using instead the native Keras format, e.g. `model.save('my_model.keras')` or `keras.saving.save_model(model, 'my_model.keras')`. \n"
     ]
    },
    {
     "name": "stdout",
     "output_type": "stream",
     "text": [
      "\u001b[1m900/900\u001b[0m \u001b[32m━━━━━━━━━━━━━━━━━━━━\u001b[0m\u001b[37m\u001b[0m \u001b[1m2s\u001b[0m 3ms/step - accuracy: 0.8974 - loss: 0.2313 - val_accuracy: 0.8985 - val_loss: 0.2288\n",
      "Epoch 9/10\n",
      "\u001b[1m900/900\u001b[0m \u001b[32m━━━━━━━━━━━━━━━━━━━━\u001b[0m\u001b[37m\u001b[0m \u001b[1m2s\u001b[0m 2ms/step - accuracy: 0.8989 - loss: 0.2286 - val_accuracy: 0.8976 - val_loss: 0.2274\n",
      "Epoch 10/10\n",
      "\u001b[1m900/900\u001b[0m \u001b[32m━━━━━━━━━━━━━━━━━━━━\u001b[0m\u001b[37m\u001b[0m \u001b[1m2s\u001b[0m 2ms/step - accuracy: 0.8957 - loss: 0.2299 - val_accuracy: 0.8978 - val_loss: 0.2259\n",
      "\u001b[1m282/282\u001b[0m \u001b[32m━━━━━━━━━━━━━━━━━━━━\u001b[0m\u001b[37m\u001b[0m \u001b[1m1s\u001b[0m 2ms/step - accuracy: 0.8982 - loss: 0.2226\n",
      "\u001b[1m282/282\u001b[0m \u001b[32m━━━━━━━━━━━━━━━━━━━━\u001b[0m\u001b[37m\u001b[0m \u001b[1m0s\u001b[0m 1ms/step\n",
      "\n",
      "Model Performance Comparison:\n",
      "                         Feature Subset Test Accuracy Precision   Recall  \\\n",
      "0  Subset 1 (Highly Important Features)       82.54 %   68.04 %  39.78 %   \n",
      "1               Subset 2 (All Features)       89.76 %   78.18 %  74.49 %   \n",
      "\n",
      "  F1 Score  \n",
      "0   0.5021  \n",
      "1   0.7629  \n"
     ]
    }
   ],
   "source": [
    "import pandas as pd\n",
    "import numpy as np\n",
    "from sklearn.preprocessing import StandardScaler\n",
    "from sklearn.metrics import precision_score, recall_score, f1_score, accuracy_score\n",
    "import tensorflow as tf\n",
    "from keras.models import Sequential\n",
    "\n",
    "# Reload the dataset\n",
    "dataset = pd.read_csv('loan_data.csv')\n",
    "\n",
    "# Identify categorical columns\n",
    "categorical_columns = dataset.select_dtypes(include=['object']).columns\n",
    "\n",
    "# Apply one-hot encoding to categorical columns\n",
    "dataset = pd.get_dummies(dataset, columns=categorical_columns, drop_first=True)\n",
    "\n",
    "# Shuffle the dataset\n",
    "shuffle_dataset = dataset.sample(frac=1, random_state=42).reset_index(drop=True)\n",
    "\n",
    "# Split the data into training and test sets\n",
    "train_set = shuffle_dataset[:int(len(shuffle_dataset) * 0.8)]\n",
    "test_set = shuffle_dataset[int(len(shuffle_dataset) * 0.8):]\n",
    "\n",
    "# Extract labels\n",
    "train_labels = train_set['loan_status']\n",
    "test_labels = test_set['loan_status']\n",
    "\n",
    "# Define subsets of features\n",
    "highly_important_features = [\n",
    "    \"person_income\",\n",
    "    \"loan_amnt\",\n",
    "    \"loan_int_rate\",\n",
    "    \"credit_score\",\n",
    "    \"cb_person_cred_hist_length\",\n",
    "    \"loan_percent_income\"\n",
    "]\n",
    "\n",
    "# Feature subsets for comparison\n",
    "feature_subsets = [\n",
    "    highly_important_features,  # Only highly important features\n",
    "    train_set.drop(['loan_status'], axis=1).columns.tolist()  # All features\n",
    "]\n",
    "\n",
    "# Initialize results list\n",
    "results = []\n",
    "\n",
    "# Loop through feature subsets\n",
    "for i, subset in enumerate(feature_subsets):\n",
    "    print(f\"Training model with feature subset {i + 1}: {subset}\")\n",
    "    \n",
    "    # Select features\n",
    "    train_features = train_set[subset]\n",
    "    test_features = test_set[subset]\n",
    "    \n",
    "    # Normalize the features\n",
    "    scaler = StandardScaler()\n",
    "    train_features = scaler.fit_transform(train_features)\n",
    "    test_features = scaler.transform(test_features)\n",
    "    \n",
    "    # Create a simple neural network model\n",
    "    model = Sequential()\n",
    "    model.add(tf.keras.layers.Dense(1, activation='sigmoid', input_shape=(train_features.shape[1],)))\n",
    "    model.compile(optimizer='adam', loss='binary_crossentropy', metrics=['accuracy'])\n",
    "    \n",
    "    # Use model checkpointing\n",
    "    checkpoint_callback = tf.keras.callbacks.ModelCheckpoint(\n",
    "        filepath=f'best_model_subset_{i + 1}.h5',\n",
    "        monitor='val_accuracy',\n",
    "        save_best_only=True\n",
    "    )\n",
    "    \n",
    "    # Train the model\n",
    "    history = model.fit(\n",
    "        train_features,\n",
    "        train_labels,\n",
    "        epochs=10,\n",
    "        batch_size=32,\n",
    "        validation_split=0.2,\n",
    "        callbacks=[checkpoint_callback]\n",
    "    )\n",
    "    \n",
    "    # Evaluate the model\n",
    "    test_loss, test_accuracy = model.evaluate(test_features, test_labels)\n",
    "    predictions = (model.predict(test_features) > 0.5).astype(\"int32\")\n",
    "    precision = precision_score(test_labels, predictions)\n",
    "    recall = recall_score(test_labels, predictions)\n",
    "    f1 = f1_score(test_labels, predictions)\n",
    "    \n",
    "    # Append results\n",
    "    results.append({\n",
    "        \"Feature Subset\": f\"Subset {i + 1} ({'Highly Important Features' if i == 0 else 'All Features'})\",\n",
    "        \"Test Accuracy\": f\"{test_accuracy * 100:.2f} %\",\n",
    "        \"Precision\": f\"{precision * 100:.2f} %\",\n",
    "        \"Recall\": f\"{recall * 100:.2f} %\",\n",
    "        \"F1 Score\": f\"{f1:.4f}\"\n",
    "    })\n",
    "\n",
    "# Create a results table\n",
    "results_table = pd.DataFrame(results)\n",
    "\n",
    "# Display the results table\n",
    "print(\"\\nModel Performance Comparison:\")\n",
    "print(results_table)\n",
    "\n",
    "# Save the results table to a CSV file for further analysis\n",
    "results_table.to_csv(\"feature_comparison_results.csv\", index=False)"
   ]
  }
 ],
 "metadata": {
  "kernelspec": {
   "display_name": ".venv",
   "language": "python",
   "name": "python3"
  },
  "language_info": {
   "codemirror_mode": {
    "name": "ipython",
    "version": 3
   },
   "file_extension": ".py",
   "mimetype": "text/x-python",
   "name": "python",
   "nbconvert_exporter": "python",
   "pygments_lexer": "ipython3",
   "version": "3.12.7"
  }
 },
 "nbformat": 4,
 "nbformat_minor": 5
}
